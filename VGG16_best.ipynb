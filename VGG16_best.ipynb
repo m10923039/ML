{
  "nbformat": 4,
  "nbformat_minor": 0,
  "metadata": {
    "colab": {
      "name": "VGG16_best.ipynb",
      "provenance": [],
      "collapsed_sections": [],
      "mount_file_id": "1x2XaoVNC490lyuCTe8XZW2KfiwO6drvd",
      "authorship_tag": "ABX9TyOZaTaYL1SXYkg94ibS/bQb",
      "include_colab_link": true
    },
    "kernelspec": {
      "display_name": "Python 3",
      "name": "python3"
    },
    "language_info": {
      "name": "python"
    }
  },
  "cells": [
    {
      "cell_type": "markdown",
      "metadata": {
        "id": "view-in-github",
        "colab_type": "text"
      },
      "source": [
        "<a href=\"https://colab.research.google.com/github/m10923039/ML/blob/main/VGG16_best.ipynb\" target=\"_parent\"><img src=\"https://colab.research.google.com/assets/colab-badge.svg\" alt=\"Open In Colab\"/></a>"
      ]
    },
    {
      "cell_type": "code",
      "metadata": {
        "id": "z9fWwFkyqyNl"
      },
      "source": [
        "# import os\n",
        "# tf.keras.backend.clear_session()\n",
        "# resolver = tf.distribute.cluster_resolver.TPUClusterResolver('grpc://' + os.environ['COLAB_TPU_ADDR'])\n",
        "# tf.config.experimental_connect_to_cluster(resolver)\n",
        "# tf.tpu.experimental.initialize_tpu_system(resolver)\n",
        "# print(\"All devices: \", tf.config.list_logical_devices('TPU'))\n",
        "# strategy = tf.distribute.experimental.TPUStrategy(resolver)"
      ],
      "execution_count": null,
      "outputs": []
    },
    {
      "cell_type": "code",
      "metadata": {
        "id": "n_xwrcfkbB0n"
      },
      "source": [
        "# from zipfile import ZipFile\n",
        "# z = ZipFile('/content/drive/MyDrive/Colab Notebooks/hw02/cifar10/data/train.zip', mode='r')\n",
        "# z.extractall('/content/drive/MyDrive/Colab Notebooks/hw02/cifar10/data')"
      ],
      "execution_count": null,
      "outputs": []
    },
    {
      "cell_type": "markdown",
      "metadata": {
        "id": "VfzpCzGn__05"
      },
      "source": [
        "# 開始"
      ]
    },
    {
      "cell_type": "code",
      "metadata": {
        "id": "VGcsDVSMWJ1K"
      },
      "source": [
        "import os\n",
        "import cv2 \n",
        "import numpy as np\n",
        "from PIL import Image\n",
        "import pandas as pd\n",
        "import tensorflow as tf\n",
        "from tensorflow.keras.preprocessing.image import ImageDataGenerator\n",
        "from tensorflow.keras.models import Model,Sequential\n",
        "from tensorflow.keras.layers import Flatten, Dense, Dropout,Conv2D,Activation,BatchNormalization,MaxPooling2D\n",
        "from tensorflow.keras.applications.resnet50 import ResNet50\n",
        "from tensorflow.keras.applications.vgg16 import VGG16\n",
        "import matplotlib.pyplot as plt\n",
        "import numpy as np\n",
        "import cv2\n"
      ],
      "execution_count": null,
      "outputs": []
    },
    {
      "cell_type": "markdown",
      "metadata": {
        "id": "qyk5kUffADMN"
      },
      "source": [
        "# 讀取檔案 \n",
        "\n",
        "\n",
        "*   設定 training dataset 和 validation dataset\n",
        "*   validation_split=0.2 validation的比例\n",
        "*   subset='training' 設定產生的是 training dataset 或 validation dataset\n",
        "*   seed=0  training 和 validation 的值一定要一樣，確保資料部會重複\n",
        "\n"
      ]
    },
    {
      "cell_type": "code",
      "metadata": {
        "colab": {
          "base_uri": "https://localhost:8080/"
        },
        "id": "74XSqVjYYSyy",
        "outputId": "c41616a1-21b5-4ecc-c2f8-692f9a18fecc"
      },
      "source": [
        "train_dir='/content/drive/MyDrive/Colab Notebooks/hw02/cifar10/data/train'\n",
        "train_dataset=tf.keras.preprocessing.image_dataset_from_directory(\n",
        "    train_dir,\n",
        "    labels=\"inferred\",\n",
        "    label_mode=\"categorical\",\n",
        "    class_names=None,\n",
        "    color_mode=\"rgb\",\n",
        "    batch_size=64,\n",
        "    image_size=(32, 32),\n",
        "    shuffle=True,\n",
        "    validation_split=0.2,\n",
        "    subset='training',\n",
        "    seed=0,\n",
        "    interpolation=\"bilinear\"\n",
        ")\n",
        "val_dataset=tf.keras.preprocessing.image_dataset_from_directory(\n",
        "    train_dir,\n",
        "    labels=\"inferred\",\n",
        "    label_mode=\"categorical\",\n",
        "    class_names=None,\n",
        "    color_mode=\"rgb\",\n",
        "    batch_size=64,\n",
        "    image_size=(32, 32),\n",
        "    shuffle=True,\n",
        "    validation_split=0.2,\n",
        "    subset='validation',\n",
        "    seed=0,\n",
        "    interpolation=\"bilinear\"\n",
        ")"
      ],
      "execution_count": null,
      "outputs": [
        {
          "output_type": "stream",
          "text": [
            "Found 50000 files belonging to 10 classes.\n",
            "Using 40000 files for training.\n",
            "Found 50000 files belonging to 10 classes.\n",
            "Using 10000 files for validation.\n"
          ],
          "name": "stdout"
        }
      ]
    },
    {
      "cell_type": "markdown",
      "metadata": {
        "id": "JmeN_A1PBF4O"
      },
      "source": [
        "# min max normalization 0～255 轉 0～1\n",
        "\n",
        "\n"
      ]
    },
    {
      "cell_type": "code",
      "metadata": {
        "id": "FkFSE9B4eZ5z"
      },
      "source": [
        "from tensorflow.keras import layers\n",
        "normalization_layer = tf.keras.layers.experimental.preprocessing.Rescaling(1./255)\n",
        "train_dataset = train_dataset.map(lambda x, y: (normalization_layer(x), tf.cast(y, dtype=tf.int32)))\n",
        "val_dataset = val_dataset.map(lambda x, y: (normalization_layer(x), tf.cast(y, dtype=tf.int32)))"
      ],
      "execution_count": null,
      "outputs": []
    },
    {
      "cell_type": "code",
      "metadata": {
        "id": "JndijwajnxVi"
      },
      "source": [
        "l2 = tf.keras.regularizers.l2(0.01)\n",
        "params = {'activation': 'relu',\n",
        "      'optimizer': 'Adam',\n",
        "      'losses': 'categorical_crossentropy',\n",
        "      'batch_size': 1500,\n",
        "      'epochs': 60,\n",
        "      'node_1' : 384,\n",
        "      'node_2' : 256,\n",
        "      'regularizers' :l2,\n",
        "      'input_shape' :(32,32,3),\n",
        "      'output_shape' : 10\n",
        "    }\n",
        "def create_model(params):\n",
        "      net = VGG16(include_top=False, weights='imagenet', input_tensor=None,\n",
        "              input_shape = (params['input_shape'])\n",
        "              )\n",
        "      \n",
        "      # 透過layer_name 節取 model的某一層 block3_pool \n",
        "      layer_name='block3_pool'\n",
        "\n",
        "      # 設定取到該層的都使用預設參數，不訓練參數\n",
        "      layer_index=net.layers.index(net.get_layer(layer_name))\n",
        "      \n",
        "      # 建立模型\n",
        "      base_model = net.get_layer(layer_name).output\n",
        "  # base_model = tf.keras.layers.Conv2D(128, (1, 1), padding='valid')(base_model)\n",
        "  # base_model = tf.keras.layers.MaxPooling2D( pool_size = (3, 3) )(base_model)\n",
        "      # 攤平 feature map \n",
        "      base_model = Flatten()(base_model)\n",
        "\n",
        "      base_model = Dropout(0.3)(base_model)\n",
        "      base_model = tf.keras.layers.BatchNormalization()(base_model)\n",
        "      base_model = Dense(units = params['node_1'], kernel_initializer = tf.keras.initializers.GlorotNormal()\n",
        "                 ,kernel_regularizer= params['regularizers'] , activation= params['activation'])(base_model)\n",
        "\n",
        "\n",
        "      base_model = Dense(units = params['node_2'], kernel_initializer = tf.keras.initializers.GlorotNormal()\n",
        "                 ,kernel_regularizer = params['regularizers'] , activation= params['activation'])(base_model)\n",
        "\n",
        "      base_model = Dropout(0.3)(base_model)\n",
        "      output_layer = Dense(params['output_shape'], activation='softmax', name='softmax')(base_model)\n",
        "\n",
        "      # 設定凍結與要進行訓練的網路層\n",
        "      net_final = Model(inputs=net.input, outputs=output_layer)\n",
        "      for layer in net_final.layers[:layer_index]:\n",
        "          layer.trainable = False\n",
        "\n",
        "      return net_final"
      ],
      "execution_count": null,
      "outputs": []
    },
    {
      "cell_type": "code",
      "metadata": {
        "colab": {
          "base_uri": "https://localhost:8080/"
        },
        "id": "JIYa8on8owrw",
        "outputId": "39be1113-c2a3-4bc2-ec43-4bd054ff9cbb"
      },
      "source": [
        "# with strategy.scope():\n",
        "model = create_model(params)\n",
        "precision=tf.keras.metrics.Precision(name='precision')\n",
        "recall=tf.keras.metrics.Recall(name='recall')\n",
        "accuracy=tf.keras.metrics.CategoricalAccuracy(name='accuracy')\n",
        "model.compile(optimizer=params['optimizer'],\n",
        "        loss=params['losses'],\n",
        "        metrics = [recall,precision,accuracy],\n",
        "        \n",
        "        )\n",
        "print(model.summary())\n",
        "callbacks_list=[\n",
        "  tf.keras.callbacks.EarlyStopping(\n",
        "    monitor='val_loss',mode='min', patience=20 ,restore_best_weights=True),\n",
        "  tf.keras.callbacks.ModelCheckpoint(\n",
        "            filepath='/content/drive/MyDrive/Colab Notebooks/hw02/cifar10/C10_VGG16_01',\n",
        "            monitor='val_loss',\n",
        "            save_best_only=True),\n",
        "  tf.keras.callbacks.ReduceLROnPlateau(monitor='val_loss',\n",
        "                        patience=5,                      \n",
        "                        verbose=1,\n",
        "                        factor=0.3,  \n",
        "                        min_lr=0.00001 )  \n",
        "        ]\n",
        "out = model.fit(\n",
        "          train_dataset,\n",
        "          validation_data=val_dataset,\n",
        "          epochs=100,\n",
        "          callbacks=callbacks_list               \n",
        "            )"
      ],
      "execution_count": null,
      "outputs": [
        {
          "output_type": "stream",
          "text": [
            "Model: \"model_1\"\n",
            "_________________________________________________________________\n",
            "Layer (type)                 Output Shape              Param #   \n",
            "=================================================================\n",
            "input_2 (InputLayer)         [(None, 32, 32, 3)]       0         \n",
            "_________________________________________________________________\n",
            "block1_conv1 (Conv2D)        (None, 32, 32, 64)        1792      \n",
            "_________________________________________________________________\n",
            "block1_conv2 (Conv2D)        (None, 32, 32, 64)        36928     \n",
            "_________________________________________________________________\n",
            "block1_pool (MaxPooling2D)   (None, 16, 16, 64)        0         \n",
            "_________________________________________________________________\n",
            "block2_conv1 (Conv2D)        (None, 16, 16, 128)       73856     \n",
            "_________________________________________________________________\n",
            "block2_conv2 (Conv2D)        (None, 16, 16, 128)       147584    \n",
            "_________________________________________________________________\n",
            "block2_pool (MaxPooling2D)   (None, 8, 8, 128)         0         \n",
            "_________________________________________________________________\n",
            "block3_conv1 (Conv2D)        (None, 8, 8, 256)         295168    \n",
            "_________________________________________________________________\n",
            "block3_conv2 (Conv2D)        (None, 8, 8, 256)         590080    \n",
            "_________________________________________________________________\n",
            "block3_conv3 (Conv2D)        (None, 8, 8, 256)         590080    \n",
            "_________________________________________________________________\n",
            "block3_pool (MaxPooling2D)   (None, 4, 4, 256)         0         \n",
            "_________________________________________________________________\n",
            "flatten_1 (Flatten)          (None, 4096)              0         \n",
            "_________________________________________________________________\n",
            "dropout_2 (Dropout)          (None, 4096)              0         \n",
            "_________________________________________________________________\n",
            "batch_normalization_1 (Batch (None, 4096)              16384     \n",
            "_________________________________________________________________\n",
            "dense_2 (Dense)              (None, 384)               1573248   \n",
            "_________________________________________________________________\n",
            "dense_3 (Dense)              (None, 256)               98560     \n",
            "_________________________________________________________________\n",
            "dropout_3 (Dropout)          (None, 256)               0         \n",
            "_________________________________________________________________\n",
            "softmax (Dense)              (None, 10)                2570      \n",
            "=================================================================\n",
            "Total params: 3,426,250\n",
            "Trainable params: 1,682,570\n",
            "Non-trainable params: 1,743,680\n",
            "_________________________________________________________________\n",
            "None\n",
            "Epoch 1/100\n",
            "625/625 [==============================] - 114s 178ms/step - loss: 6.1185 - recall: 0.4498 - precision: 0.7087 - accuracy: 0.5798 - val_loss: 1.5416 - val_recall: 0.5757 - val_precision: 0.7964 - val_accuracy: 0.6845\n",
            "INFO:tensorflow:Assets written to: /content/drive/MyDrive/Colab Notebooks/hw02/cifar10/C10_VGG16_01/assets\n",
            "Epoch 2/100\n",
            "625/625 [==============================] - 113s 180ms/step - loss: 1.5777 - recall: 0.5360 - precision: 0.7685 - accuracy: 0.6527 - val_loss: 1.2966 - val_recall: 0.6112 - val_precision: 0.8072 - val_accuracy: 0.7080\n",
            "INFO:tensorflow:Assets written to: /content/drive/MyDrive/Colab Notebooks/hw02/cifar10/C10_VGG16_01/assets\n",
            "Epoch 3/100\n",
            "625/625 [==============================] - 108s 171ms/step - loss: 1.3687 - recall: 0.5647 - precision: 0.7817 - accuracy: 0.6759 - val_loss: 1.1837 - val_recall: 0.6232 - val_precision: 0.8217 - val_accuracy: 0.7241\n",
            "INFO:tensorflow:Assets written to: /content/drive/MyDrive/Colab Notebooks/hw02/cifar10/C10_VGG16_01/assets\n",
            "Epoch 4/100\n",
            "625/625 [==============================] - 108s 171ms/step - loss: 1.2620 - recall: 0.5858 - precision: 0.7885 - accuracy: 0.6916 - val_loss: 1.1097 - val_recall: 0.6343 - val_precision: 0.8277 - val_accuracy: 0.7316\n",
            "INFO:tensorflow:Assets written to: /content/drive/MyDrive/Colab Notebooks/hw02/cifar10/C10_VGG16_01/assets\n",
            "Epoch 5/100\n",
            "625/625 [==============================] - 108s 171ms/step - loss: 1.1888 - recall: 0.6023 - precision: 0.7953 - accuracy: 0.6976 - val_loss: 1.0871 - val_recall: 0.6419 - val_precision: 0.8199 - val_accuracy: 0.7280\n",
            "INFO:tensorflow:Assets written to: /content/drive/MyDrive/Colab Notebooks/hw02/cifar10/C10_VGG16_01/assets\n",
            "Epoch 6/100\n",
            "625/625 [==============================] - 108s 171ms/step - loss: 1.1414 - recall: 0.6152 - precision: 0.7987 - accuracy: 0.7062 - val_loss: 1.0552 - val_recall: 0.6532 - val_precision: 0.8207 - val_accuracy: 0.7358\n",
            "INFO:tensorflow:Assets written to: /content/drive/MyDrive/Colab Notebooks/hw02/cifar10/C10_VGG16_01/assets\n",
            "Epoch 7/100\n",
            "625/625 [==============================] - 106s 169ms/step - loss: 1.1253 - recall: 0.6170 - precision: 0.7965 - accuracy: 0.7067 - val_loss: 1.0147 - val_recall: 0.6617 - val_precision: 0.8310 - val_accuracy: 0.7494\n",
            "INFO:tensorflow:Assets written to: /content/drive/MyDrive/Colab Notebooks/hw02/cifar10/C10_VGG16_01/assets\n",
            "Epoch 8/100\n",
            "625/625 [==============================] - 107s 170ms/step - loss: 1.1054 - recall: 0.6237 - precision: 0.8011 - accuracy: 0.7113 - val_loss: 1.0178 - val_recall: 0.6544 - val_precision: 0.8227 - val_accuracy: 0.7389\n",
            "Epoch 9/100\n",
            "625/625 [==============================] - 108s 171ms/step - loss: 1.0841 - recall: 0.6324 - precision: 0.8040 - accuracy: 0.7158 - val_loss: 1.0073 - val_recall: 0.6638 - val_precision: 0.8272 - val_accuracy: 0.7427\n",
            "INFO:tensorflow:Assets written to: /content/drive/MyDrive/Colab Notebooks/hw02/cifar10/C10_VGG16_01/assets\n",
            "Epoch 10/100\n",
            "625/625 [==============================] - 107s 171ms/step - loss: 1.0841 - recall: 0.6287 - precision: 0.8004 - accuracy: 0.7127 - val_loss: 0.9996 - val_recall: 0.6638 - val_precision: 0.8307 - val_accuracy: 0.7445\n",
            "INFO:tensorflow:Assets written to: /content/drive/MyDrive/Colab Notebooks/hw02/cifar10/C10_VGG16_01/assets\n",
            "Epoch 11/100\n",
            "625/625 [==============================] - 109s 172ms/step - loss: 1.0809 - recall: 0.6265 - precision: 0.7991 - accuracy: 0.7124 - val_loss: 1.0023 - val_recall: 0.6620 - val_precision: 0.8250 - val_accuracy: 0.7411\n",
            "Epoch 12/100\n",
            "625/625 [==============================] - 107s 170ms/step - loss: 1.0691 - recall: 0.6316 - precision: 0.7983 - accuracy: 0.7156 - val_loss: 0.9871 - val_recall: 0.6696 - val_precision: 0.8266 - val_accuracy: 0.7455\n",
            "INFO:tensorflow:Assets written to: /content/drive/MyDrive/Colab Notebooks/hw02/cifar10/C10_VGG16_01/assets\n",
            "Epoch 13/100\n",
            "625/625 [==============================] - 108s 171ms/step - loss: 1.0639 - recall: 0.6362 - precision: 0.8062 - accuracy: 0.7181 - val_loss: 0.9785 - val_recall: 0.6690 - val_precision: 0.8323 - val_accuracy: 0.7522\n",
            "INFO:tensorflow:Assets written to: /content/drive/MyDrive/Colab Notebooks/hw02/cifar10/C10_VGG16_01/assets\n",
            "Epoch 14/100\n",
            "625/625 [==============================] - 109s 173ms/step - loss: 1.0671 - recall: 0.6330 - precision: 0.8019 - accuracy: 0.7177 - val_loss: 0.9674 - val_recall: 0.6770 - val_precision: 0.8328 - val_accuracy: 0.7477\n",
            "INFO:tensorflow:Assets written to: /content/drive/MyDrive/Colab Notebooks/hw02/cifar10/C10_VGG16_01/assets\n",
            "Epoch 15/100\n",
            "625/625 [==============================] - 107s 169ms/step - loss: 1.0621 - recall: 0.6332 - precision: 0.8034 - accuracy: 0.7170 - val_loss: 0.9772 - val_recall: 0.6674 - val_precision: 0.8310 - val_accuracy: 0.7507\n",
            "Epoch 16/100\n",
            "625/625 [==============================] - 107s 170ms/step - loss: 1.0591 - recall: 0.6332 - precision: 0.8038 - accuracy: 0.7161 - val_loss: 0.9888 - val_recall: 0.6598 - val_precision: 0.8286 - val_accuracy: 0.7393\n",
            "Epoch 17/100\n",
            "625/625 [==============================] - 108s 171ms/step - loss: 1.0554 - recall: 0.6339 - precision: 0.8009 - accuracy: 0.7181 - val_loss: 0.9759 - val_recall: 0.6686 - val_precision: 0.8328 - val_accuracy: 0.7466\n",
            "Epoch 18/100\n",
            "625/625 [==============================] - 107s 170ms/step - loss: 1.0504 - recall: 0.6380 - precision: 0.8060 - accuracy: 0.7201 - val_loss: 0.9747 - val_recall: 0.6735 - val_precision: 0.8325 - val_accuracy: 0.7508\n",
            "Epoch 19/100\n",
            "625/625 [==============================] - 107s 170ms/step - loss: 1.0541 - recall: 0.6363 - precision: 0.8058 - accuracy: 0.7196 - val_loss: 0.9755 - val_recall: 0.6684 - val_precision: 0.8339 - val_accuracy: 0.7512\n",
            "\n",
            "Epoch 00019: ReduceLROnPlateau reducing learning rate to 0.0003000000142492354.\n",
            "Epoch 20/100\n",
            "625/625 [==============================] - 110s 174ms/step - loss: 0.9791 - recall: 0.6577 - precision: 0.8178 - accuracy: 0.7400 - val_loss: 0.8489 - val_recall: 0.7098 - val_precision: 0.8408 - val_accuracy: 0.7721\n",
            "INFO:tensorflow:Assets written to: /content/drive/MyDrive/Colab Notebooks/hw02/cifar10/C10_VGG16_01/assets\n",
            "Epoch 21/100\n",
            "625/625 [==============================] - 109s 173ms/step - loss: 0.8951 - recall: 0.6840 - precision: 0.8265 - accuracy: 0.7520 - val_loss: 0.8242 - val_recall: 0.7139 - val_precision: 0.8486 - val_accuracy: 0.7739\n",
            "INFO:tensorflow:Assets written to: /content/drive/MyDrive/Colab Notebooks/hw02/cifar10/C10_VGG16_01/assets\n",
            "Epoch 22/100\n",
            "625/625 [==============================] - 108s 172ms/step - loss: 0.8658 - recall: 0.6896 - precision: 0.8318 - accuracy: 0.7585 - val_loss: 0.8153 - val_recall: 0.7115 - val_precision: 0.8455 - val_accuracy: 0.7761\n",
            "INFO:tensorflow:Assets written to: /content/drive/MyDrive/Colab Notebooks/hw02/cifar10/C10_VGG16_01/assets\n",
            "Epoch 23/100\n",
            "625/625 [==============================] - 109s 173ms/step - loss: 0.8533 - recall: 0.6921 - precision: 0.8332 - accuracy: 0.7618 - val_loss: 0.8030 - val_recall: 0.7175 - val_precision: 0.8464 - val_accuracy: 0.7810\n",
            "INFO:tensorflow:Assets written to: /content/drive/MyDrive/Colab Notebooks/hw02/cifar10/C10_VGG16_01/assets\n",
            "Epoch 24/100\n",
            "625/625 [==============================] - 109s 173ms/step - loss: 0.8394 - recall: 0.6984 - precision: 0.8378 - accuracy: 0.7672 - val_loss: 0.8077 - val_recall: 0.7163 - val_precision: 0.8430 - val_accuracy: 0.7765\n",
            "Epoch 25/100\n",
            "625/625 [==============================] - 110s 174ms/step - loss: 0.8361 - recall: 0.6950 - precision: 0.8348 - accuracy: 0.7637 - val_loss: 0.8026 - val_recall: 0.7175 - val_precision: 0.8445 - val_accuracy: 0.7771\n",
            "INFO:tensorflow:Assets written to: /content/drive/MyDrive/Colab Notebooks/hw02/cifar10/C10_VGG16_01/assets\n",
            "Epoch 26/100\n",
            "625/625 [==============================] - 109s 173ms/step - loss: 0.8273 - recall: 0.7031 - precision: 0.8398 - accuracy: 0.7696 - val_loss: 0.8023 - val_recall: 0.7133 - val_precision: 0.8444 - val_accuracy: 0.7767\n",
            "INFO:tensorflow:Assets written to: /content/drive/MyDrive/Colab Notebooks/hw02/cifar10/C10_VGG16_01/assets\n",
            "Epoch 27/100\n",
            "625/625 [==============================] - 108s 172ms/step - loss: 0.8228 - recall: 0.7035 - precision: 0.8367 - accuracy: 0.7685 - val_loss: 0.7977 - val_recall: 0.7196 - val_precision: 0.8457 - val_accuracy: 0.7801\n",
            "INFO:tensorflow:Assets written to: /content/drive/MyDrive/Colab Notebooks/hw02/cifar10/C10_VGG16_01/assets\n",
            "Epoch 28/100\n",
            "625/625 [==============================] - 108s 172ms/step - loss: 0.8207 - recall: 0.7032 - precision: 0.8361 - accuracy: 0.7683 - val_loss: 0.8028 - val_recall: 0.7189 - val_precision: 0.8411 - val_accuracy: 0.7805\n",
            "Epoch 29/100\n",
            "625/625 [==============================] - 109s 173ms/step - loss: 0.8203 - recall: 0.7035 - precision: 0.8380 - accuracy: 0.7698 - val_loss: 0.7914 - val_recall: 0.7221 - val_precision: 0.8464 - val_accuracy: 0.7822\n",
            "INFO:tensorflow:Assets written to: /content/drive/MyDrive/Colab Notebooks/hw02/cifar10/C10_VGG16_01/assets\n",
            "Epoch 30/100\n",
            "625/625 [==============================] - 108s 171ms/step - loss: 0.8138 - recall: 0.7051 - precision: 0.8392 - accuracy: 0.7726 - val_loss: 0.7933 - val_recall: 0.7211 - val_precision: 0.8432 - val_accuracy: 0.7809\n",
            "Epoch 31/100\n",
            "625/625 [==============================] - 108s 171ms/step - loss: 0.8159 - recall: 0.7043 - precision: 0.8406 - accuracy: 0.7681 - val_loss: 0.7913 - val_recall: 0.7253 - val_precision: 0.8431 - val_accuracy: 0.7798\n",
            "INFO:tensorflow:Assets written to: /content/drive/MyDrive/Colab Notebooks/hw02/cifar10/C10_VGG16_01/assets\n",
            "Epoch 32/100\n",
            "625/625 [==============================] - 109s 173ms/step - loss: 0.8174 - recall: 0.7019 - precision: 0.8368 - accuracy: 0.7680 - val_loss: 0.7869 - val_recall: 0.7266 - val_precision: 0.8434 - val_accuracy: 0.7804\n",
            "INFO:tensorflow:Assets written to: /content/drive/MyDrive/Colab Notebooks/hw02/cifar10/C10_VGG16_01/assets\n",
            "Epoch 33/100\n",
            "625/625 [==============================] - 107s 170ms/step - loss: 0.8197 - recall: 0.7009 - precision: 0.8341 - accuracy: 0.7643 - val_loss: 0.7923 - val_recall: 0.7231 - val_precision: 0.8446 - val_accuracy: 0.7780\n",
            "Epoch 34/100\n",
            "625/625 [==============================] - 104s 166ms/step - loss: 0.8103 - recall: 0.7103 - precision: 0.8386 - accuracy: 0.7731 - val_loss: 0.7906 - val_recall: 0.7235 - val_precision: 0.8434 - val_accuracy: 0.7804\n",
            "Epoch 35/100\n",
            "625/625 [==============================] - 104s 166ms/step - loss: 0.8128 - recall: 0.7071 - precision: 0.8403 - accuracy: 0.7713 - val_loss: 0.7883 - val_recall: 0.7195 - val_precision: 0.8443 - val_accuracy: 0.7821\n",
            "Epoch 36/100\n",
            "625/625 [==============================] - 105s 167ms/step - loss: 0.8139 - recall: 0.7064 - precision: 0.8378 - accuracy: 0.7706 - val_loss: 0.7896 - val_recall: 0.7223 - val_precision: 0.8476 - val_accuracy: 0.7820\n",
            "Epoch 37/100\n",
            "625/625 [==============================] - 107s 170ms/step - loss: 0.8073 - recall: 0.7104 - precision: 0.8414 - accuracy: 0.7744 - val_loss: 0.7903 - val_recall: 0.7258 - val_precision: 0.8458 - val_accuracy: 0.7831\n",
            "\n",
            "Epoch 00037: ReduceLROnPlateau reducing learning rate to 9.000000427477062e-05.\n",
            "Epoch 38/100\n",
            "625/625 [==============================] - 105s 167ms/step - loss: 0.7840 - recall: 0.7179 - precision: 0.8456 - accuracy: 0.7812 - val_loss: 0.7619 - val_recall: 0.7335 - val_precision: 0.8472 - val_accuracy: 0.7859\n",
            "INFO:tensorflow:Assets written to: /content/drive/MyDrive/Colab Notebooks/hw02/cifar10/C10_VGG16_01/assets\n",
            "Epoch 39/100\n",
            "625/625 [==============================] - 107s 170ms/step - loss: 0.7515 - recall: 0.7312 - precision: 0.8535 - accuracy: 0.7899 - val_loss: 0.7532 - val_recall: 0.7338 - val_precision: 0.8476 - val_accuracy: 0.7883\n",
            "INFO:tensorflow:Assets written to: /content/drive/MyDrive/Colab Notebooks/hw02/cifar10/C10_VGG16_01/assets\n",
            "Epoch 40/100\n",
            "625/625 [==============================] - 106s 168ms/step - loss: 0.7374 - recall: 0.7322 - precision: 0.8531 - accuracy: 0.7887 - val_loss: 0.7462 - val_recall: 0.7348 - val_precision: 0.8483 - val_accuracy: 0.7858\n",
            "INFO:tensorflow:Assets written to: /content/drive/MyDrive/Colab Notebooks/hw02/cifar10/C10_VGG16_01/assets\n",
            "Epoch 41/100\n",
            "625/625 [==============================] - 108s 172ms/step - loss: 0.7302 - recall: 0.7348 - precision: 0.8547 - accuracy: 0.7935 - val_loss: 0.7395 - val_recall: 0.7360 - val_precision: 0.8504 - val_accuracy: 0.7892\n",
            "INFO:tensorflow:Assets written to: /content/drive/MyDrive/Colab Notebooks/hw02/cifar10/C10_VGG16_01/assets\n",
            "Epoch 42/100\n",
            "625/625 [==============================] - 106s 168ms/step - loss: 0.7214 - recall: 0.7366 - precision: 0.8570 - accuracy: 0.7926 - val_loss: 0.7380 - val_recall: 0.7399 - val_precision: 0.8508 - val_accuracy: 0.7869\n",
            "INFO:tensorflow:Assets written to: /content/drive/MyDrive/Colab Notebooks/hw02/cifar10/C10_VGG16_01/assets\n",
            "Epoch 43/100\n",
            "625/625 [==============================] - 107s 170ms/step - loss: 0.7208 - recall: 0.7352 - precision: 0.8557 - accuracy: 0.7947 - val_loss: 0.7333 - val_recall: 0.7400 - val_precision: 0.8507 - val_accuracy: 0.7913\n",
            "INFO:tensorflow:Assets written to: /content/drive/MyDrive/Colab Notebooks/hw02/cifar10/C10_VGG16_01/assets\n",
            "Epoch 44/100\n",
            "625/625 [==============================] - 107s 170ms/step - loss: 0.7100 - recall: 0.7384 - precision: 0.8584 - accuracy: 0.7970 - val_loss: 0.7335 - val_recall: 0.7403 - val_precision: 0.8469 - val_accuracy: 0.7883\n",
            "Epoch 45/100\n",
            "625/625 [==============================] - 107s 169ms/step - loss: 0.7094 - recall: 0.7378 - precision: 0.8561 - accuracy: 0.7974 - val_loss: 0.7331 - val_recall: 0.7392 - val_precision: 0.8489 - val_accuracy: 0.7897\n",
            "INFO:tensorflow:Assets written to: /content/drive/MyDrive/Colab Notebooks/hw02/cifar10/C10_VGG16_01/assets\n",
            "Epoch 46/100\n",
            "625/625 [==============================] - 108s 172ms/step - loss: 0.7083 - recall: 0.7385 - precision: 0.8534 - accuracy: 0.7946 - val_loss: 0.7295 - val_recall: 0.7405 - val_precision: 0.8500 - val_accuracy: 0.7900\n",
            "INFO:tensorflow:Assets written to: /content/drive/MyDrive/Colab Notebooks/hw02/cifar10/C10_VGG16_01/assets\n",
            "Epoch 47/100\n",
            "625/625 [==============================] - 110s 175ms/step - loss: 0.7017 - recall: 0.7395 - precision: 0.8603 - accuracy: 0.7977 - val_loss: 0.7292 - val_recall: 0.7397 - val_precision: 0.8499 - val_accuracy: 0.7902\n",
            "INFO:tensorflow:Assets written to: /content/drive/MyDrive/Colab Notebooks/hw02/cifar10/C10_VGG16_01/assets\n",
            "Epoch 48/100\n",
            "625/625 [==============================] - 108s 172ms/step - loss: 0.7012 - recall: 0.7411 - precision: 0.8572 - accuracy: 0.7956 - val_loss: 0.7283 - val_recall: 0.7380 - val_precision: 0.8485 - val_accuracy: 0.7864\n",
            "INFO:tensorflow:Assets written to: /content/drive/MyDrive/Colab Notebooks/hw02/cifar10/C10_VGG16_01/assets\n",
            "Epoch 49/100\n",
            "625/625 [==============================] - 107s 170ms/step - loss: 0.6943 - recall: 0.7445 - precision: 0.8604 - accuracy: 0.8001 - val_loss: 0.7273 - val_recall: 0.7392 - val_precision: 0.8494 - val_accuracy: 0.7895\n",
            "INFO:tensorflow:Assets written to: /content/drive/MyDrive/Colab Notebooks/hw02/cifar10/C10_VGG16_01/assets\n",
            "Epoch 50/100\n",
            "625/625 [==============================] - 107s 170ms/step - loss: 0.6921 - recall: 0.7426 - precision: 0.8616 - accuracy: 0.8019 - val_loss: 0.7268 - val_recall: 0.7393 - val_precision: 0.8495 - val_accuracy: 0.7894\n",
            "INFO:tensorflow:Assets written to: /content/drive/MyDrive/Colab Notebooks/hw02/cifar10/C10_VGG16_01/assets\n",
            "Epoch 51/100\n",
            "625/625 [==============================] - 108s 171ms/step - loss: 0.6871 - recall: 0.7466 - precision: 0.8614 - accuracy: 0.8015 - val_loss: 0.7256 - val_recall: 0.7371 - val_precision: 0.8509 - val_accuracy: 0.7877\n",
            "INFO:tensorflow:Assets written to: /content/drive/MyDrive/Colab Notebooks/hw02/cifar10/C10_VGG16_01/assets\n",
            "Epoch 52/100\n",
            "625/625 [==============================] - 109s 173ms/step - loss: 0.6878 - recall: 0.7456 - precision: 0.8630 - accuracy: 0.8011 - val_loss: 0.7254 - val_recall: 0.7385 - val_precision: 0.8497 - val_accuracy: 0.7883\n",
            "INFO:tensorflow:Assets written to: /content/drive/MyDrive/Colab Notebooks/hw02/cifar10/C10_VGG16_01/assets\n",
            "Epoch 53/100\n",
            "625/625 [==============================] - 109s 173ms/step - loss: 0.6959 - recall: 0.7401 - precision: 0.8568 - accuracy: 0.7954 - val_loss: 0.7233 - val_recall: 0.7400 - val_precision: 0.8499 - val_accuracy: 0.7896\n",
            "INFO:tensorflow:Assets written to: /content/drive/MyDrive/Colab Notebooks/hw02/cifar10/C10_VGG16_01/assets\n",
            "Epoch 54/100\n",
            "625/625 [==============================] - 109s 173ms/step - loss: 0.6870 - recall: 0.7427 - precision: 0.8604 - accuracy: 0.7995 - val_loss: 0.7230 - val_recall: 0.7396 - val_precision: 0.8516 - val_accuracy: 0.7906\n",
            "INFO:tensorflow:Assets written to: /content/drive/MyDrive/Colab Notebooks/hw02/cifar10/C10_VGG16_01/assets\n",
            "Epoch 55/100\n",
            "625/625 [==============================] - 107s 169ms/step - loss: 0.6878 - recall: 0.7429 - precision: 0.8584 - accuracy: 0.7995 - val_loss: 0.7231 - val_recall: 0.7418 - val_precision: 0.8509 - val_accuracy: 0.7911\n",
            "Epoch 56/100\n",
            "625/625 [==============================] - 107s 169ms/step - loss: 0.6847 - recall: 0.7476 - precision: 0.8610 - accuracy: 0.8039 - val_loss: 0.7231 - val_recall: 0.7432 - val_precision: 0.8482 - val_accuracy: 0.7914\n",
            "Epoch 57/100\n",
            "625/625 [==============================] - 107s 170ms/step - loss: 0.6792 - recall: 0.7445 - precision: 0.8626 - accuracy: 0.8000 - val_loss: 0.7231 - val_recall: 0.7418 - val_precision: 0.8475 - val_accuracy: 0.7899\n",
            "Epoch 58/100\n",
            "625/625 [==============================] - 108s 172ms/step - loss: 0.6812 - recall: 0.7472 - precision: 0.8598 - accuracy: 0.8015 - val_loss: 0.7196 - val_recall: 0.7451 - val_precision: 0.8503 - val_accuracy: 0.7904\n",
            "INFO:tensorflow:Assets written to: /content/drive/MyDrive/Colab Notebooks/hw02/cifar10/C10_VGG16_01/assets\n",
            "Epoch 59/100\n",
            "625/625 [==============================] - 108s 171ms/step - loss: 0.6848 - recall: 0.7482 - precision: 0.8614 - accuracy: 0.8002 - val_loss: 0.7197 - val_recall: 0.7432 - val_precision: 0.8497 - val_accuracy: 0.7911\n",
            "Epoch 60/100\n",
            "625/625 [==============================] - 108s 171ms/step - loss: 0.6845 - recall: 0.7454 - precision: 0.8597 - accuracy: 0.8008 - val_loss: 0.7195 - val_recall: 0.7414 - val_precision: 0.8497 - val_accuracy: 0.7894\n",
            "INFO:tensorflow:Assets written to: /content/drive/MyDrive/Colab Notebooks/hw02/cifar10/C10_VGG16_01/assets\n",
            "Epoch 61/100\n",
            "625/625 [==============================] - 108s 171ms/step - loss: 0.6762 - recall: 0.7473 - precision: 0.8577 - accuracy: 0.8036 - val_loss: 0.7206 - val_recall: 0.7417 - val_precision: 0.8464 - val_accuracy: 0.7914\n",
            "Epoch 62/100\n",
            "625/625 [==============================] - 107s 170ms/step - loss: 0.6734 - recall: 0.7508 - precision: 0.8598 - accuracy: 0.8030 - val_loss: 0.7167 - val_recall: 0.7406 - val_precision: 0.8478 - val_accuracy: 0.7911\n",
            "INFO:tensorflow:Assets written to: /content/drive/MyDrive/Colab Notebooks/hw02/cifar10/C10_VGG16_01/assets\n",
            "Epoch 63/100\n",
            "625/625 [==============================] - 108s 171ms/step - loss: 0.6780 - recall: 0.7480 - precision: 0.8624 - accuracy: 0.8056 - val_loss: 0.7174 - val_recall: 0.7435 - val_precision: 0.8517 - val_accuracy: 0.7927\n",
            "Epoch 64/100\n",
            "625/625 [==============================] - 108s 171ms/step - loss: 0.6790 - recall: 0.7493 - precision: 0.8632 - accuracy: 0.8026 - val_loss: 0.7182 - val_recall: 0.7439 - val_precision: 0.8488 - val_accuracy: 0.7927\n",
            "Epoch 65/100\n",
            "625/625 [==============================] - 108s 171ms/step - loss: 0.6825 - recall: 0.7467 - precision: 0.8603 - accuracy: 0.8030 - val_loss: 0.7189 - val_recall: 0.7411 - val_precision: 0.8457 - val_accuracy: 0.7917\n",
            "Epoch 66/100\n",
            "625/625 [==============================] - 108s 171ms/step - loss: 0.6789 - recall: 0.7479 - precision: 0.8610 - accuracy: 0.8016 - val_loss: 0.7219 - val_recall: 0.7419 - val_precision: 0.8477 - val_accuracy: 0.7911\n",
            "Epoch 67/100\n",
            "625/625 [==============================] - 108s 171ms/step - loss: 0.6770 - recall: 0.7480 - precision: 0.8602 - accuracy: 0.8050 - val_loss: 0.7161 - val_recall: 0.7428 - val_precision: 0.8495 - val_accuracy: 0.7908\n",
            "INFO:tensorflow:Assets written to: /content/drive/MyDrive/Colab Notebooks/hw02/cifar10/C10_VGG16_01/assets\n",
            "Epoch 68/100\n",
            "625/625 [==============================] - 108s 171ms/step - loss: 0.6761 - recall: 0.7507 - precision: 0.8624 - accuracy: 0.8045 - val_loss: 0.7189 - val_recall: 0.7418 - val_precision: 0.8502 - val_accuracy: 0.7920\n",
            "Epoch 69/100\n",
            "625/625 [==============================] - 107s 170ms/step - loss: 0.6746 - recall: 0.7493 - precision: 0.8616 - accuracy: 0.8019 - val_loss: 0.7178 - val_recall: 0.7435 - val_precision: 0.8501 - val_accuracy: 0.7941\n",
            "Epoch 70/100\n",
            "625/625 [==============================] - 107s 170ms/step - loss: 0.6779 - recall: 0.7495 - precision: 0.8618 - accuracy: 0.8032 - val_loss: 0.7192 - val_recall: 0.7418 - val_precision: 0.8471 - val_accuracy: 0.7919\n",
            "Epoch 71/100\n",
            "625/625 [==============================] - 108s 171ms/step - loss: 0.6788 - recall: 0.7431 - precision: 0.8592 - accuracy: 0.8013 - val_loss: 0.7172 - val_recall: 0.7439 - val_precision: 0.8496 - val_accuracy: 0.7918\n",
            "Epoch 72/100\n",
            "625/625 [==============================] - 107s 170ms/step - loss: 0.6781 - recall: 0.7498 - precision: 0.8618 - accuracy: 0.8049 - val_loss: 0.7181 - val_recall: 0.7460 - val_precision: 0.8489 - val_accuracy: 0.7923\n",
            "\n",
            "Epoch 00072: ReduceLROnPlateau reducing learning rate to 2.700000040931627e-05.\n",
            "Epoch 73/100\n",
            "625/625 [==============================] - 107s 169ms/step - loss: 0.6595 - recall: 0.7535 - precision: 0.8664 - accuracy: 0.8094 - val_loss: 0.7115 - val_recall: 0.7476 - val_precision: 0.8504 - val_accuracy: 0.7935\n",
            "INFO:tensorflow:Assets written to: /content/drive/MyDrive/Colab Notebooks/hw02/cifar10/C10_VGG16_01/assets\n",
            "Epoch 74/100\n",
            "625/625 [==============================] - 109s 173ms/step - loss: 0.6591 - recall: 0.7577 - precision: 0.8651 - accuracy: 0.8098 - val_loss: 0.7094 - val_recall: 0.7482 - val_precision: 0.8507 - val_accuracy: 0.7934\n",
            "INFO:tensorflow:Assets written to: /content/drive/MyDrive/Colab Notebooks/hw02/cifar10/C10_VGG16_01/assets\n",
            "Epoch 75/100\n",
            "625/625 [==============================] - 108s 172ms/step - loss: 0.6502 - recall: 0.7622 - precision: 0.8691 - accuracy: 0.8137 - val_loss: 0.7098 - val_recall: 0.7473 - val_precision: 0.8505 - val_accuracy: 0.7949\n",
            "Epoch 76/100\n",
            "625/625 [==============================] - 106s 169ms/step - loss: 0.6481 - recall: 0.7584 - precision: 0.8699 - accuracy: 0.8120 - val_loss: 0.7080 - val_recall: 0.7484 - val_precision: 0.8509 - val_accuracy: 0.7950\n",
            "INFO:tensorflow:Assets written to: /content/drive/MyDrive/Colab Notebooks/hw02/cifar10/C10_VGG16_01/assets\n",
            "Epoch 77/100\n",
            "625/625 [==============================] - 108s 171ms/step - loss: 0.6412 - recall: 0.7623 - precision: 0.8691 - accuracy: 0.8144 - val_loss: 0.7065 - val_recall: 0.7470 - val_precision: 0.8515 - val_accuracy: 0.7939\n",
            "INFO:tensorflow:Assets written to: /content/drive/MyDrive/Colab Notebooks/hw02/cifar10/C10_VGG16_01/assets\n",
            "Epoch 78/100\n",
            "625/625 [==============================] - 107s 169ms/step - loss: 0.6466 - recall: 0.7591 - precision: 0.8698 - accuracy: 0.8106 - val_loss: 0.7067 - val_recall: 0.7453 - val_precision: 0.8502 - val_accuracy: 0.7939\n",
            "Epoch 79/100\n",
            "625/625 [==============================] - 106s 169ms/step - loss: 0.6395 - recall: 0.7619 - precision: 0.8683 - accuracy: 0.8140 - val_loss: 0.7066 - val_recall: 0.7455 - val_precision: 0.8500 - val_accuracy: 0.7943\n",
            "Epoch 80/100\n",
            "625/625 [==============================] - 108s 171ms/step - loss: 0.6400 - recall: 0.7635 - precision: 0.8683 - accuracy: 0.8170 - val_loss: 0.7056 - val_recall: 0.7474 - val_precision: 0.8496 - val_accuracy: 0.7951\n",
            "INFO:tensorflow:Assets written to: /content/drive/MyDrive/Colab Notebooks/hw02/cifar10/C10_VGG16_01/assets\n",
            "Epoch 81/100\n",
            "625/625 [==============================] - 107s 169ms/step - loss: 0.6357 - recall: 0.7663 - precision: 0.8713 - accuracy: 0.8157 - val_loss: 0.7064 - val_recall: 0.7459 - val_precision: 0.8507 - val_accuracy: 0.7967\n",
            "Epoch 82/100\n",
            "625/625 [==============================] - 106s 168ms/step - loss: 0.6425 - recall: 0.7628 - precision: 0.8720 - accuracy: 0.8152 - val_loss: 0.7055 - val_recall: 0.7470 - val_precision: 0.8527 - val_accuracy: 0.7971\n",
            "INFO:tensorflow:Assets written to: /content/drive/MyDrive/Colab Notebooks/hw02/cifar10/C10_VGG16_01/assets\n",
            "Epoch 83/100\n",
            "625/625 [==============================] - 105s 167ms/step - loss: 0.6340 - recall: 0.7631 - precision: 0.8745 - accuracy: 0.8165 - val_loss: 0.7043 - val_recall: 0.7495 - val_precision: 0.8527 - val_accuracy: 0.7968\n",
            "INFO:tensorflow:Assets written to: /content/drive/MyDrive/Colab Notebooks/hw02/cifar10/C10_VGG16_01/assets\n",
            "Epoch 84/100\n",
            "625/625 [==============================] - 107s 170ms/step - loss: 0.6391 - recall: 0.7582 - precision: 0.8684 - accuracy: 0.8129 - val_loss: 0.7032 - val_recall: 0.7489 - val_precision: 0.8526 - val_accuracy: 0.7973\n",
            "INFO:tensorflow:Assets written to: /content/drive/MyDrive/Colab Notebooks/hw02/cifar10/C10_VGG16_01/assets\n",
            "Epoch 85/100\n",
            "625/625 [==============================] - 108s 171ms/step - loss: 0.6361 - recall: 0.7636 - precision: 0.8709 - accuracy: 0.8152 - val_loss: 0.7027 - val_recall: 0.7486 - val_precision: 0.8527 - val_accuracy: 0.7976\n",
            "INFO:tensorflow:Assets written to: /content/drive/MyDrive/Colab Notebooks/hw02/cifar10/C10_VGG16_01/assets\n",
            "Epoch 86/100\n",
            "625/625 [==============================] - 107s 170ms/step - loss: 0.6306 - recall: 0.7677 - precision: 0.8720 - accuracy: 0.8191 - val_loss: 0.7017 - val_recall: 0.7492 - val_precision: 0.8514 - val_accuracy: 0.7975\n",
            "INFO:tensorflow:Assets written to: /content/drive/MyDrive/Colab Notebooks/hw02/cifar10/C10_VGG16_01/assets\n",
            "Epoch 87/100\n",
            "625/625 [==============================] - 107s 170ms/step - loss: 0.6347 - recall: 0.7663 - precision: 0.8729 - accuracy: 0.8149 - val_loss: 0.7029 - val_recall: 0.7487 - val_precision: 0.8515 - val_accuracy: 0.7985\n",
            "Epoch 88/100\n",
            "625/625 [==============================] - 107s 170ms/step - loss: 0.6264 - recall: 0.7694 - precision: 0.8742 - accuracy: 0.8190 - val_loss: 0.7026 - val_recall: 0.7477 - val_precision: 0.8514 - val_accuracy: 0.7981\n",
            "Epoch 89/100\n",
            "625/625 [==============================] - 106s 168ms/step - loss: 0.6303 - recall: 0.7654 - precision: 0.8716 - accuracy: 0.8179 - val_loss: 0.7033 - val_recall: 0.7485 - val_precision: 0.8505 - val_accuracy: 0.7977\n",
            "Epoch 90/100\n",
            "625/625 [==============================] - 105s 166ms/step - loss: 0.6273 - recall: 0.7658 - precision: 0.8736 - accuracy: 0.8176 - val_loss: 0.7030 - val_recall: 0.7489 - val_precision: 0.8499 - val_accuracy: 0.7962\n",
            "Epoch 91/100\n",
            "625/625 [==============================] - 107s 171ms/step - loss: 0.6262 - recall: 0.7674 - precision: 0.8737 - accuracy: 0.8186 - val_loss: 0.7015 - val_recall: 0.7498 - val_precision: 0.8518 - val_accuracy: 0.7966\n",
            "INFO:tensorflow:Assets written to: /content/drive/MyDrive/Colab Notebooks/hw02/cifar10/C10_VGG16_01/assets\n",
            "Epoch 92/100\n",
            "625/625 [==============================] - 106s 169ms/step - loss: 0.6285 - recall: 0.7703 - precision: 0.8743 - accuracy: 0.8189 - val_loss: 0.7016 - val_recall: 0.7485 - val_precision: 0.8517 - val_accuracy: 0.7946\n",
            "Epoch 93/100\n",
            "625/625 [==============================] - 107s 170ms/step - loss: 0.6232 - recall: 0.7656 - precision: 0.8718 - accuracy: 0.8181 - val_loss: 0.7013 - val_recall: 0.7491 - val_precision: 0.8508 - val_accuracy: 0.7948\n",
            "INFO:tensorflow:Assets written to: /content/drive/MyDrive/Colab Notebooks/hw02/cifar10/C10_VGG16_01/assets\n",
            "Epoch 94/100\n",
            "625/625 [==============================] - 106s 169ms/step - loss: 0.6239 - recall: 0.7673 - precision: 0.8714 - accuracy: 0.8187 - val_loss: 0.7004 - val_recall: 0.7496 - val_precision: 0.8518 - val_accuracy: 0.7956\n",
            "INFO:tensorflow:Assets written to: /content/drive/MyDrive/Colab Notebooks/hw02/cifar10/C10_VGG16_01/assets\n",
            "Epoch 95/100\n",
            "625/625 [==============================] - 106s 168ms/step - loss: 0.6237 - recall: 0.7627 - precision: 0.8680 - accuracy: 0.8156 - val_loss: 0.7010 - val_recall: 0.7493 - val_precision: 0.8513 - val_accuracy: 0.7957\n",
            "Epoch 96/100\n",
            "625/625 [==============================] - 105s 167ms/step - loss: 0.6275 - recall: 0.7644 - precision: 0.8697 - accuracy: 0.8168 - val_loss: 0.6999 - val_recall: 0.7500 - val_precision: 0.8526 - val_accuracy: 0.7995\n",
            "INFO:tensorflow:Assets written to: /content/drive/MyDrive/Colab Notebooks/hw02/cifar10/C10_VGG16_01/assets\n",
            "Epoch 97/100\n",
            "625/625 [==============================] - 107s 170ms/step - loss: 0.6218 - recall: 0.7683 - precision: 0.8755 - accuracy: 0.8205 - val_loss: 0.6995 - val_recall: 0.7505 - val_precision: 0.8506 - val_accuracy: 0.7992\n",
            "INFO:tensorflow:Assets written to: /content/drive/MyDrive/Colab Notebooks/hw02/cifar10/C10_VGG16_01/assets\n",
            "Epoch 98/100\n",
            "625/625 [==============================] - 106s 169ms/step - loss: 0.6262 - recall: 0.7669 - precision: 0.8717 - accuracy: 0.8169 - val_loss: 0.6999 - val_recall: 0.7504 - val_precision: 0.8508 - val_accuracy: 0.7973\n",
            "Epoch 99/100\n",
            "625/625 [==============================] - 105s 167ms/step - loss: 0.6272 - recall: 0.7652 - precision: 0.8706 - accuracy: 0.8170 - val_loss: 0.6994 - val_recall: 0.7509 - val_precision: 0.8510 - val_accuracy: 0.7969\n",
            "INFO:tensorflow:Assets written to: /content/drive/MyDrive/Colab Notebooks/hw02/cifar10/C10_VGG16_01/assets\n",
            "Epoch 100/100\n",
            "625/625 [==============================] - 105s 167ms/step - loss: 0.6200 - recall: 0.7679 - precision: 0.8741 - accuracy: 0.8180 - val_loss: 0.6995 - val_recall: 0.7504 - val_precision: 0.8514 - val_accuracy: 0.7976\n"
          ],
          "name": "stdout"
        }
      ]
    },
    {
      "cell_type": "markdown",
      "metadata": {
        "id": "dACp0PSL7Yc_"
      },
      "source": [
        "# 訓練 驗證 績效圖"
      ]
    },
    {
      "cell_type": "code",
      "metadata": {
        "id": "9_2PMsU-7FWg"
      },
      "source": [
        "import matplotlib.pyplot as plot  # plot 可以視為畫布\n",
        "\n",
        "def train_history_graphic( history       # 資料集合\n",
        "                         , history_key1  # 資料集合裡面的來源 1 (有 loss, acc, val_loss, val_acc 四種)\n",
        "                         , history_key2  # 資料集合裡面的來源 2 (有 loss, acc, val_loss, val_acc 四種)\n",
        "                         , y_label       # Y 軸標籤文字\n",
        "                         , index=0\n",
        "                         ) :\n",
        "    plot.figure(figsize=(15,10))\n",
        "    font_size=25\n",
        "    # 資料來源 1\n",
        "    plot.plot( history.history[history_key1][index:] )\n",
        "    # 資料來源 2\n",
        "    plot.plot( history.history[history_key2][index:] )\n",
        "    # 標題\n",
        "    plot.title( 'train history',fontsize=font_size )\n",
        "    # X 軸標籤文字\n",
        "    plot.xlabel( 'epochs',fontsize=font_size )\n",
        "    # Y 軸標籤文字\n",
        "    plot.ylabel( y_label,fontsize=font_size )\n",
        "    # 設定圖例\n",
        "    # (參數 1 為圖例說明, 有幾個資料來源, 就對應幾個圖例說明)\n",
        "    # (參數 2 為圖例位置, upper 為上面, lower 為下面, left 為左邊, right 為右邊)\n",
        "    plot.legend( ['train', 'validate']\n",
        "               , loc = 'upper left'\n",
        "               )\n",
        "    # 顯示畫布\n",
        "    plot.show()\n",
        "# \n",
        "\n",
        "#############################################\n",
        "metrics_list=['loss','recall','precision','accuracy']\n",
        "for metrics in metrics_list :\n",
        "  train_history_graphic( vgg1, metrics, f'val_{metrics}', metrics, 0 )\n"
      ],
      "execution_count": null,
      "outputs": []
    },
    {
      "cell_type": "markdown",
      "metadata": {
        "id": "Z5cYJRWp-Cvo"
      },
      "source": [
        "# precision,recall,accuracy 計算"
      ]
    },
    {
      "cell_type": "code",
      "metadata": {
        "colab": {
          "base_uri": "https://localhost:8080/"
        },
        "id": "P581jDID-sFh",
        "outputId": "24b5be0f-d28b-4c5e-d65e-d95987362890"
      },
      "source": [
        "from tensorflow.keras import layers\n",
        "test_dir='/content/drive/MyDrive/Colab Notebooks/hw02/cifar10/data/test'\n",
        "test_dataset=tf.keras.preprocessing.image_dataset_from_directory(\n",
        "    test_dir,\n",
        "    labels=\"inferred\",\n",
        "    label_mode=\"categorical\",\n",
        "    class_names=None,\n",
        "    color_mode=\"rgb\",\n",
        "    batch_size=64,\n",
        "    image_size=(32, 32),\n",
        "    shuffle=True,\n",
        "    interpolation=\"bilinear\"\n",
        ")\n",
        "normalization_layer = tf.keras.layers.experimental.preprocessing.Rescaling(1./255)\n",
        "test_dataset = test_dataset.map(lambda x, y: (normalization_layer(x), tf.cast(y, dtype=tf.int32)))"
      ],
      "execution_count": null,
      "outputs": [
        {
          "output_type": "stream",
          "text": [
            "Found 9589 files belonging to 10 classes.\n"
          ],
          "name": "stdout"
        }
      ]
    },
    {
      "cell_type": "code",
      "metadata": {
        "id": "wM_XnSTwroLF"
      },
      "source": [
        "vgg1=tf.keras.models.load_model('/content/drive/MyDrive/Colab Notebooks/hw02/cifar10/C10_VGG16_01')"
      ],
      "execution_count": null,
      "outputs": []
    },
    {
      "cell_type": "code",
      "metadata": {
        "id": "2LKMMBUgJpvq"
      },
      "source": [
        "# precision=tf.keras.metrics.Precision(name='precision')\n",
        "# recall=tf.keras.metrics.Recall(name='recall')\n",
        "# accuracy=tf.keras.metrics.CategoricalAccuracy(name='accuracy')\n",
        "# vgg1.compile(optimizer='Adam',\n",
        "#     loss='categorical_crossentropy',\n",
        "#     metrics = [precision,recall,accuracy]\n",
        "#           )\n"
      ],
      "execution_count": null,
      "outputs": []
    },
    {
      "cell_type": "code",
      "metadata": {
        "colab": {
          "base_uri": "https://localhost:8080/"
        },
        "id": "tQ--0c9_J69h",
        "outputId": "cc253df2-481b-4db7-e072-00dfcfccd989"
      },
      "source": [
        "preds=vgg1.evaluate(test_dataset)"
      ],
      "execution_count": null,
      "outputs": [
        {
          "output_type": "stream",
          "text": [
            " 21/150 [===>..........................] - ETA: 1:03:51 - loss: 0.7398 - recall: 0.7426 - precision: 0.8408 - accuracy: 0.7879"
          ],
          "name": "stdout"
        }
      ]
    },
    {
      "cell_type": "code",
      "metadata": {
        "id": "QS0M9evI90kX"
      },
      "source": [
        "def evaluate_model_1(model,test_dataset):\n",
        "  precision=tf.keras.metrics.Precision(name='precision')\n",
        "  recall=tf.keras.metrics.Recall(name='recall')\n",
        "  accuracy=tf.keras.metrics.CategoricalAccuracy(name='accuracy')\n",
        "  model.compile(optimizer='Adam',\n",
        "        loss='categorical_crossentropy',\n",
        "        metrics = [precision,recall,accuracy]\n",
        "              )\n",
        "  preds=model.evaluate(test_dataset)\n",
        "  print(model)\n",
        "  print('loss ： %.5f' % preds[0])\n",
        "  print('precision：%.5f' % preds[1])\n",
        "  print('recall：%.5f' % preds[2])\n",
        "  print('accuracy： %.5f' %preds[3])\n",
        "  F1 = 2 * (preds[1] * preds[2]) / (preds[1] + preds[2])\n",
        "  print('f1score：%.5f' % F1)\n",
        "  print(\"===========================================\")\n",
        "  preds.append(F1)\n",
        "  return pd.DataFrame(preds,columns=['loss','precision','recall','accuracy','f1score'])\n",
        "\n",
        "# model out \n",
        "df=evaluate_model_1(vgg1,test_dataset)\n",
        "df"
      ],
      "execution_count": null,
      "outputs": []
    }
  ]
}