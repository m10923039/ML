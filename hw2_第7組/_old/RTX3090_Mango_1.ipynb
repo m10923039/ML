{
 "cells": [
  {
   "cell_type": "code",
   "execution_count": 1,
   "metadata": {},
   "outputs": [
    {
     "name": "stdout",
     "output_type": "stream",
     "text": [
      "2.4.1\n",
      "[PhysicalDevice(name='/physical_device:GPU:0', device_type='GPU')]\n"
     ]
    }
   ],
   "source": [
    "import tensorflow as tf\n",
    "from tensorflow import keras\n",
    "from tensorflow.keras import layers\n",
    "import numpy as np\n",
    "import datetime as dt\n",
    "import os\n",
    "\n",
    "\"\"\"\n",
    "gpus = tf.config.experimental.list_physical_devices(device_type='GPU')\n",
    "for gpu in gpus:\n",
    "    tf.config.experimental.set_memory_growth(gpu, True)\n",
    "os.environ['CUDA_VISIBLE_DEVICES']='0'\n",
    "\"\"\"\n",
    "gpus = tf.config.experimental.list_physical_devices(device_type='GPU')\n",
    "print(tf.__version__)\n",
    "print(gpus)"
   ]
  },
  {
   "cell_type": "code",
   "execution_count": 2,
   "metadata": {},
   "outputs": [
    {
     "name": "stdout",
     "output_type": "stream",
     "text": [
      "1 Physical GPUs, 1 Logical GPUs\n"
     ]
    }
   ],
   "source": [
    "def solve_cudnn_error():\n",
    "    gpus = tf.config.experimental.list_physical_devices('GPU')\n",
    "    if gpus:\n",
    "        try:\n",
    "            # Currently, memory growth needs to be the same across GPUs\n",
    "            for gpu in gpus:\n",
    "                tf.config.experimental.set_memory_growth(gpu, True)\n",
    "            logical_gpus = tf.config.experimental.list_logical_devices('GPU')\n",
    "            print(len(gpus), \"Physical GPUs,\", len(logical_gpus), \"Logical GPUs\")\n",
    "        except RuntimeError as e:\n",
    "            # Memory growth must be set before GPUs have been initialized\n",
    "            print(e)\n",
    "solve_cudnn_error()"
   ]
  },
  {
   "cell_type": "markdown",
   "metadata": {},
   "source": [
    "import tensorflow as tf\n",
    "from tensorflow.keras import * \n",
    "import time\n",
    "\n",
    "tf.config.set_soft_device_placement(True)\n",
    "tf.debugging.set_log_device_placement(True)\n",
    "\n",
    "gpus = tf.config.experimental.list_physical_devices('GPU')\n",
    "tf.config.experimental.set_visible_devices(gpus[0], 'GPU')\n",
    "tf.config.experimental.set_memory_growth(gpus[0], True)\n",
    "\n",
    "t=time.time()\n",
    "with tf.device(\"/gpu:0\"):\n",
    "    tf.random.set_seed(0)\n",
    "    a = tf.random.uniform((10000,10000),minval = 0,maxval = 3.0)\n",
    "    c = tf.matmul(a, tf.transpose(a))\n",
    "    d = tf.reduce_sum(c)\n",
    "print('gpu: ', time.time()-t)\n",
    "\n",
    "t=time.time()\n",
    "with tf.device(\"/cpu:0\"):\n",
    "    tf.random.set_seed(0)\n",
    "    a = tf.random.uniform((10000,10000),minval = 0,maxval = 3.0)\n",
    "    c = tf.matmul(a, tf.transpose(a))\n",
    "    d = tf.reduce_sum(c)\n",
    "print('cpu: ', time.time()-t)"
   ]
  },
  {
   "cell_type": "markdown",
   "metadata": {},
   "source": [
    "# STAR train"
   ]
  },
  {
   "cell_type": "code",
   "execution_count": 2,
   "metadata": {},
   "outputs": [],
   "source": [
    "# Ho\n",
    "import os\n",
    "import cv2 \n",
    "import numpy as np\n",
    "from PIL import Image\n",
    "import pandas as pd\n",
    "\n",
    "import tensorflow as tf\n",
    "from tensorflow.keras.utils import to_categorical\n",
    "from tensorflow import keras\n",
    "from tensorflow.keras import layers,models,optimizers\n",
    "\n",
    "\n",
    "from sklearn.model_selection import train_test_split\n",
    "\n",
    "\n",
    "img_resize=(224,224)\n",
    "def ReFileName(dirPath):\n",
    "    mango=[]\n",
    "    for file in os.listdir(dirPath):\n",
    "        if os.path.isfile(os.path.join(dirPath, file)) == True:\n",
    "           c= os.path.basename(file)\n",
    "           name = dirPath + '\\\\' + c\n",
    "           img = cv2.imread(name)\n",
    "           img=cv2.resize(img,img_resize)\n",
    "           mango.append(img)\n",
    "    return mango"
   ]
  },
  {
   "cell_type": "code",
   "execution_count": 3,
   "metadata": {},
   "outputs": [],
   "source": [
    "#圖片路徑\n",
    "\n",
    "train_dir = r'C:\\Users\\lab543\\Desktop\\DATA\\Train_Image'\n",
    "dirPath = r\"C:\\Users\\lab543\\Desktop\\DATA\\Train_Image\"\n",
    "valid_dir  = r'C:\\Users\\lab543\\Desktop\\DATA\\Test_Image'\n",
    "\n",
    "\n",
    "# train_dir = r'D:\\_YUN\\24_ML\\Work02\\Mango\\DATA'\n",
    "# dirPath =train_dir+ r'\\Train_Image_512'\n",
    "\n",
    "\n",
    "#標籤路徑\n",
    "train_label = pd.read_csv(train_dir+ r'\\..\\train.csv',header = 0)\n",
    "\n",
    "#One-hot\n",
    "train_label = train_label['label'].map({\"A\":0, \"B\":1,\"C\":2})\n",
    "train_label = to_categorical(train_label)\n",
    "\n",
    "mango = ReFileName(dirPath)\n",
    "datas=np.array(mango).astype('float32')/255.0"
   ]
  },
  {
   "cell_type": "code",
   "execution_count": 4,
   "metadata": {},
   "outputs": [
    {
     "name": "stdout",
     "output_type": "stream",
     "text": [
      "train_dataset = <BatchDataset shapes: ((None, 224, 224, 3), (None, 3)), types: (tf.float32, tf.int32)>\n"
     ]
    }
   ],
   "source": [
    "\n",
    "#切割\n",
    "train_data, val_data, train_label, val_label = train_test_split(datas, train_label, test_size=0.2, random_state=0)\n",
    "\n",
    "\n",
    "BATCH_SIZE = 512\n",
    "SHUFFLE_BUFFER_SIZE = 100\n",
    "\n",
    "tensor_train_data=tf.constant(train_data)\n",
    "tensor_train_label=tf.constant(train_label,dtype=tf.int32)\n",
    "\n",
    "train_dataset = tf.data.Dataset.from_tensor_slices((tensor_train_data, tensor_train_label))\n",
    "train_dataset = train_dataset.shuffle(SHUFFLE_BUFFER_SIZE).batch(BATCH_SIZE)\n",
    "\n",
    "\n",
    "print( 'train_dataset =', train_dataset )"
   ]
  },
  {
   "cell_type": "markdown",
   "metadata": {},
   "source": [
    "# 建立模型"
   ]
  },
  {
   "cell_type": "code",
   "execution_count": 5,
   "metadata": {},
   "outputs": [
    {
     "name": "stdout",
     "output_type": "stream",
     "text": [
      "Model: \"model\"\n",
      "_________________________________________________________________\n",
      "Layer (type)                 Output Shape              Param #   \n",
      "=================================================================\n",
      "input_1 (InputLayer)         [(None, 224, 224, 3)]     0         \n",
      "_________________________________________________________________\n",
      "block1_conv1 (Conv2D)        (None, 224, 224, 64)      1792      \n",
      "_________________________________________________________________\n",
      "block1_conv2 (Conv2D)        (None, 224, 224, 64)      36928     \n",
      "_________________________________________________________________\n",
      "block1_pool (MaxPooling2D)   (None, 112, 112, 64)      0         \n",
      "_________________________________________________________________\n",
      "block2_conv1 (Conv2D)        (None, 112, 112, 128)     73856     \n",
      "_________________________________________________________________\n",
      "block2_conv2 (Conv2D)        (None, 112, 112, 128)     147584    \n",
      "_________________________________________________________________\n",
      "block2_pool (MaxPooling2D)   (None, 56, 56, 128)       0         \n",
      "_________________________________________________________________\n",
      "block3_conv1 (Conv2D)        (None, 56, 56, 256)       295168    \n",
      "_________________________________________________________________\n",
      "block3_conv2 (Conv2D)        (None, 56, 56, 256)       590080    \n",
      "_________________________________________________________________\n",
      "block3_conv3 (Conv2D)        (None, 56, 56, 256)       590080    \n",
      "_________________________________________________________________\n",
      "block3_pool (MaxPooling2D)   (None, 28, 28, 256)       0         \n",
      "_________________________________________________________________\n",
      "block4_conv1 (Conv2D)        (None, 28, 28, 512)       1180160   \n",
      "_________________________________________________________________\n",
      "block4_conv2 (Conv2D)        (None, 28, 28, 512)       2359808   \n",
      "_________________________________________________________________\n",
      "block4_conv3 (Conv2D)        (None, 28, 28, 512)       2359808   \n",
      "_________________________________________________________________\n",
      "block4_pool (MaxPooling2D)   (None, 14, 14, 512)       0         \n",
      "_________________________________________________________________\n",
      "conv2d (Conv2D)              (None, 14, 14, 128)       65664     \n",
      "_________________________________________________________________\n",
      "max_pooling2d (MaxPooling2D) (None, 4, 4, 128)         0         \n",
      "_________________________________________________________________\n",
      "flatten (Flatten)            (None, 2048)              0         \n",
      "_________________________________________________________________\n",
      "dropout (Dropout)            (None, 2048)              0         \n",
      "_________________________________________________________________\n",
      "batch_normalization (BatchNo (None, 2048)              8192      \n",
      "_________________________________________________________________\n",
      "dense (Dense)                (None, 256)               524544    \n",
      "_________________________________________________________________\n",
      "dense_1 (Dense)              (None, 256)               65792     \n",
      "_________________________________________________________________\n",
      "dropout_1 (Dropout)          (None, 256)               0         \n",
      "_________________________________________________________________\n",
      "softmax (Dense)              (None, 3)                 771       \n",
      "=================================================================\n",
      "Total params: 8,300,227\n",
      "Trainable params: 660,867\n",
      "Non-trainable params: 7,639,360\n",
      "_________________________________________________________________\n"
     ]
    }
   ],
   "source": [
    "# Ho 128->256   base_model = layers.Conv2D(256, (1, 1), padding='valid')(base_model)\n",
    "\n",
    "from tensorflow.keras.applications.vgg16 import VGG16\n",
    "def create_model():\n",
    "    net = VGG16(include_top=False, weights='imagenet', input_tensor=None,\n",
    "          input_shape = (train_data.shape[1],train_data.shape[2],train_data.shape[3])\n",
    "          )\n",
    "    l2 = tf.keras.regularizers.l2(0.01)\n",
    "\n",
    "    # 透過layer_name 節取 model的某一層 block3_pool block4_conv3\n",
    "    layer_name='block4_pool'\n",
    "\n",
    "    # 設定取到該層的都使用預設參數，不訓練參數\n",
    "    layer_index=net.layers.index(net.get_layer(layer_name))\n",
    "\n",
    "    # 建立模型\n",
    "    base_model = net.get_layer(layer_name).output\n",
    "    base_model = layers.Conv2D(256, (1, 1), padding='valid')(base_model)\n",
    "    base_model = layers.MaxPooling2D( pool_size = (3, 3) )(base_model)\n",
    "\n",
    "    # 攤平 feature map \n",
    "    base_model = layers.Flatten()(base_model)\n",
    "\n",
    "\n",
    "    base_model = layers.Dropout(0.3)(base_model)\n",
    "    base_model = layers.BatchNormalization()(base_model)\n",
    "    base_model = layers.Dense(units = 256, kernel_initializer = tf.keras.initializers.GlorotNormal()\n",
    "             ,kernel_regularizer= l2 , activation= 'relu')(base_model)\n",
    "\n",
    "\n",
    "    base_model = layers.Dense(units = 256, kernel_initializer = tf.keras.initializers.GlorotNormal()\n",
    "             ,kernel_regularizer = l2 , activation= 'relu')(base_model)\n",
    "\n",
    "    base_model = layers.Dropout(0.3)(base_model)\n",
    "    output_layer = layers.Dense(train_label.shape[1], activation='softmax', name='softmax')(base_model)\n",
    "\n",
    "    # 設定凍結與要進行訓練的網路層\n",
    "    net_final = tf.keras.models.Model(inputs=net.input, outputs=output_layer)\n",
    "\n",
    "    for layer in net_final.layers[:layer_index]:\n",
    "        layer.trainable = False\n",
    "\n",
    "    return net_final\n",
    "\n",
    "test_model=create_model()\n",
    "test_model.summary()"
   ]
  },
  {
   "cell_type": "markdown",
   "metadata": {},
   "source": [
    "#  compile fit  callbacks 設定"
   ]
  },
  {
   "cell_type": "code",
   "execution_count": 6,
   "metadata": {
    "scrolled": true
   },
   "outputs": [
    {
     "name": "stdout",
     "output_type": "stream",
     "text": [
      "Epoch 1/30\n",
      "39/39 [==============================] - 46s 955ms/step - loss: 7.6517 - precision: 0.4745 - recall: 0.3446 - accuracy: 0.4532 - val_loss: 6.1058 - val_precision: 0.5416 - val_recall: 0.5359 - val_accuracy: 0.5383\n",
      "INFO:tensorflow:Assets written to: C:/Users/lab543/Desktop/DATA\\Mango_VGG16_01\\assets\n",
      "Epoch 2/30\n",
      "39/39 [==============================] - 33s 848ms/step - loss: 5.0455 - precision: 0.6617 - recall: 0.5282 - accuracy: 0.6175 - val_loss: 3.6353 - val_precision: 0.7047 - val_recall: 0.6501 - val_accuracy: 0.6827\n",
      "INFO:tensorflow:Assets written to: C:/Users/lab543/Desktop/DATA\\Mango_VGG16_01\\assets\n",
      "Epoch 3/30\n",
      "39/39 [==============================] - 32s 824ms/step - loss: 3.3032 - precision: 0.7007 - recall: 0.5964 - accuracy: 0.6695 - val_loss: 2.4339 - val_precision: 0.6898 - val_recall: 0.6566 - val_accuracy: 0.6803\n",
      "INFO:tensorflow:Assets written to: C:/Users/lab543/Desktop/DATA\\Mango_VGG16_01\\assets\n",
      "Epoch 4/30\n",
      "39/39 [==============================] - 32s 826ms/step - loss: 2.2043 - precision: 0.7209 - recall: 0.6315 - accuracy: 0.6917 - val_loss: 1.6944 - val_precision: 0.7277 - val_recall: 0.6778 - val_accuracy: 0.7039\n",
      "INFO:tensorflow:Assets written to: C:/Users/lab543/Desktop/DATA\\Mango_VGG16_01\\assets\n",
      "Epoch 5/30\n",
      "39/39 [==============================] - 32s 826ms/step - loss: 1.5698 - precision: 0.7506 - recall: 0.6492 - accuracy: 0.7059 - val_loss: 1.3960 - val_precision: 0.6911 - val_recall: 0.6387 - val_accuracy: 0.6639\n",
      "INFO:tensorflow:Assets written to: C:/Users/lab543/Desktop/DATA\\Mango_VGG16_01\\assets\n",
      "Epoch 6/30\n",
      "39/39 [==============================] - 32s 823ms/step - loss: 1.2257 - precision: 0.7454 - recall: 0.6641 - accuracy: 0.7145 - val_loss: 1.0854 - val_precision: 0.7518 - val_recall: 0.6892 - val_accuracy: 0.7186\n",
      "INFO:tensorflow:Assets written to: C:/Users/lab543/Desktop/DATA\\Mango_VGG16_01\\assets\n",
      "Epoch 7/30\n",
      "39/39 [==============================] - 32s 824ms/step - loss: 1.0149 - precision: 0.7611 - recall: 0.6818 - accuracy: 0.7310 - val_loss: 1.0732 - val_precision: 0.6961 - val_recall: 0.6558 - val_accuracy: 0.6786\n",
      "INFO:tensorflow:Assets written to: C:/Users/lab543/Desktop/DATA\\Mango_VGG16_01\\assets\n",
      "Epoch 8/30\n",
      "39/39 [==============================] - 32s 826ms/step - loss: 0.8903 - precision: 0.7610 - recall: 0.6764 - accuracy: 0.7340 - val_loss: 0.8676 - val_precision: 0.7365 - val_recall: 0.6794 - val_accuracy: 0.7096\n",
      "INFO:tensorflow:Assets written to: C:/Users/lab543/Desktop/DATA\\Mango_VGG16_01\\assets\n",
      "Epoch 9/30\n",
      "39/39 [==============================] - 32s 828ms/step - loss: 0.8290 - precision: 0.7610 - recall: 0.7010 - accuracy: 0.7385 - val_loss: 0.9619 - val_precision: 0.6885 - val_recall: 0.6509 - val_accuracy: 0.6729\n",
      "Epoch 10/30\n",
      "39/39 [==============================] - 33s 831ms/step - loss: 0.7835 - precision: 0.7546 - recall: 0.6930 - accuracy: 0.7334 - val_loss: 0.8142 - val_precision: 0.7234 - val_recall: 0.6721 - val_accuracy: 0.7039\n",
      "INFO:tensorflow:Assets written to: C:/Users/lab543/Desktop/DATA\\Mango_VGG16_01\\assets\n",
      "Epoch 11/30\n",
      "39/39 [==============================] - 32s 831ms/step - loss: 0.7490 - precision: 0.7607 - recall: 0.6997 - accuracy: 0.7386 - val_loss: 0.7711 - val_precision: 0.7458 - val_recall: 0.6941 - val_accuracy: 0.7227\n",
      "INFO:tensorflow:Assets written to: C:/Users/lab543/Desktop/DATA\\Mango_VGG16_01\\assets\n",
      "Epoch 12/30\n",
      "39/39 [==============================] - 32s 829ms/step - loss: 0.7167 - precision: 0.7672 - recall: 0.7154 - accuracy: 0.7473 - val_loss: 0.7539 - val_precision: 0.7487 - val_recall: 0.6852 - val_accuracy: 0.7210\n",
      "INFO:tensorflow:Assets written to: C:/Users/lab543/Desktop/DATA\\Mango_VGG16_01\\assets\n",
      "Epoch 13/30\n",
      "39/39 [==============================] - 33s 839ms/step - loss: 0.7182 - precision: 0.7649 - recall: 0.7045 - accuracy: 0.7394 - val_loss: 0.7992 - val_precision: 0.7053 - val_recall: 0.6656 - val_accuracy: 0.6827\n",
      "Epoch 14/30\n",
      "39/39 [==============================] - 33s 837ms/step - loss: 0.6995 - precision: 0.7687 - recall: 0.7094 - accuracy: 0.7423 - val_loss: 0.7740 - val_precision: 0.7177 - val_recall: 0.6697 - val_accuracy: 0.6900\n",
      "Epoch 15/30\n",
      "39/39 [==============================] - 33s 832ms/step - loss: 0.6853 - precision: 0.7733 - recall: 0.7195 - accuracy: 0.7480 - val_loss: 0.7692 - val_precision: 0.7250 - val_recall: 0.6794 - val_accuracy: 0.7047\n",
      "Epoch 16/30\n",
      "39/39 [==============================] - 33s 854ms/step - loss: 0.6627 - precision: 0.7741 - recall: 0.7178 - accuracy: 0.7560 - val_loss: 0.7612 - val_precision: 0.7351 - val_recall: 0.6949 - val_accuracy: 0.7170\n",
      "Epoch 17/30\n",
      "39/39 [==============================] - 33s 832ms/step - loss: 0.6857 - precision: 0.7658 - recall: 0.7126 - accuracy: 0.7457 - val_loss: 0.7073 - val_precision: 0.7601 - val_recall: 0.7210 - val_accuracy: 0.7414\n",
      "INFO:tensorflow:Assets written to: C:/Users/lab543/Desktop/DATA\\Mango_VGG16_01\\assets\n",
      "Epoch 18/30\n",
      "39/39 [==============================] - 33s 833ms/step - loss: 0.6498 - precision: 0.7821 - recall: 0.7391 - accuracy: 0.7638 - val_loss: 0.6985 - val_precision: 0.7586 - val_recall: 0.7023 - val_accuracy: 0.7316\n",
      "INFO:tensorflow:Assets written to: C:/Users/lab543/Desktop/DATA\\Mango_VGG16_01\\assets\n",
      "Epoch 19/30\n",
      "39/39 [==============================] - 33s 836ms/step - loss: 0.6576 - precision: 0.7804 - recall: 0.7368 - accuracy: 0.7602 - val_loss: 0.7328 - val_precision: 0.7418 - val_recall: 0.7031 - val_accuracy: 0.7292\n",
      "Epoch 20/30\n",
      "39/39 [==============================] - 33s 834ms/step - loss: 0.6564 - precision: 0.7827 - recall: 0.7262 - accuracy: 0.7596 - val_loss: 0.7103 - val_precision: 0.7433 - val_recall: 0.6966 - val_accuracy: 0.7227\n",
      "Epoch 21/30\n",
      "39/39 [==============================] - 33s 833ms/step - loss: 0.6413 - precision: 0.7807 - recall: 0.7353 - accuracy: 0.7587 - val_loss: 0.7320 - val_precision: 0.7451 - val_recall: 0.6868 - val_accuracy: 0.7276\n",
      "\n",
      "Epoch 00021: ReduceLROnPlateau reducing learning rate to 0.0005000000237487257.\n",
      "Epoch 22/30\n",
      "39/39 [==============================] - 33s 833ms/step - loss: 0.6351 - precision: 0.7805 - recall: 0.7322 - accuracy: 0.7634 - val_loss: 0.6822 - val_precision: 0.7607 - val_recall: 0.7104 - val_accuracy: 0.7374\n",
      "INFO:tensorflow:Assets written to: C:/Users/lab543/Desktop/DATA\\Mango_VGG16_01\\assets\n",
      "Epoch 23/30\n",
      "39/39 [==============================] - 33s 836ms/step - loss: 0.6170 - precision: 0.7920 - recall: 0.7497 - accuracy: 0.7719 - val_loss: 0.6787 - val_precision: 0.7548 - val_recall: 0.7055 - val_accuracy: 0.7349\n",
      "INFO:tensorflow:Assets written to: C:/Users/lab543/Desktop/DATA\\Mango_VGG16_01\\assets\n",
      "Epoch 24/30\n",
      "39/39 [==============================] - 33s 837ms/step - loss: 0.5853 - precision: 0.7984 - recall: 0.7547 - accuracy: 0.7778 - val_loss: 0.6729 - val_precision: 0.7431 - val_recall: 0.7055 - val_accuracy: 0.7292\n",
      "INFO:tensorflow:Assets written to: C:/Users/lab543/Desktop/DATA\\Mango_VGG16_01\\assets\n",
      "Epoch 25/30\n",
      "39/39 [==============================] - 33s 835ms/step - loss: 0.5710 - precision: 0.8074 - recall: 0.7623 - accuracy: 0.7867 - val_loss: 0.6775 - val_precision: 0.7455 - val_recall: 0.7072 - val_accuracy: 0.7259\n",
      "Epoch 26/30\n",
      "39/39 [==============================] - 33s 835ms/step - loss: 0.5961 - precision: 0.7936 - recall: 0.7475 - accuracy: 0.7719 - val_loss: 0.6852 - val_precision: 0.7515 - val_recall: 0.7227 - val_accuracy: 0.7365\n",
      "Epoch 27/30\n",
      "39/39 [==============================] - 33s 834ms/step - loss: 0.5813 - precision: 0.7936 - recall: 0.7488 - accuracy: 0.7723 - val_loss: 0.6742 - val_precision: 0.7555 - val_recall: 0.7259 - val_accuracy: 0.7439\n",
      "Epoch 28/30\n",
      "39/39 [==============================] - 33s 837ms/step - loss: 0.5808 - precision: 0.7932 - recall: 0.7589 - accuracy: 0.7813 - val_loss: 0.6712 - val_precision: 0.7449 - val_recall: 0.7194 - val_accuracy: 0.7390\n",
      "INFO:tensorflow:Assets written to: C:/Users/lab543/Desktop/DATA\\Mango_VGG16_01\\assets\n",
      "Epoch 29/30\n",
      "39/39 [==============================] - 33s 834ms/step - loss: 0.5599 - precision: 0.8036 - recall: 0.7622 - accuracy: 0.7843 - val_loss: 0.6561 - val_precision: 0.7562 - val_recall: 0.7186 - val_accuracy: 0.7398\n",
      "INFO:tensorflow:Assets written to: C:/Users/lab543/Desktop/DATA\\Mango_VGG16_01\\assets\n",
      "Epoch 30/30\n",
      "39/39 [==============================] - 33s 832ms/step - loss: 0.5681 - precision: 0.8041 - recall: 0.7676 - accuracy: 0.7895 - val_loss: 0.6721 - val_precision: 0.7519 - val_recall: 0.7219 - val_accuracy: 0.7365\n"
     ]
    }
   ],
   "source": [
    "# Ho\n",
    "\n",
    "# \n",
    "# Generate batches of tensor image data with real-time data augmentation.\n",
    "\n",
    "train_datagen=tf.keras.preprocessing.image.ImageDataGenerator(rotation_range=15 , \n",
    "                             width_shift_range=0.2 , \n",
    "                             height_shift_range=0.2 ,\n",
    "                             shear_range=0.2 ,\n",
    "                             zoom_range=0.2 , \n",
    "                             data_format='channels_last')\n",
    "\n",
    "callbacks_list=[\n",
    "        tf.keras.callbacks.EarlyStopping(\n",
    "          monitor='val_loss',mode='min', patience=18 ,restore_best_weights=True\n",
    "        ),\n",
    "        tf.keras.callbacks.ModelCheckpoint(\n",
    "            filepath='C:/Users/lab543/Desktop/DATA/Mango_VGG16_01',\n",
    "            monitor='val_loss',\n",
    "            save_best_only=True,\n",
    "        ),\n",
    "        tf.keras.callbacks.ReduceLROnPlateau(monitor='accuracy',\n",
    "                             patience=3,\n",
    "                             # 3 epochs 內acc沒下降就要調整LR\n",
    "                             verbose=1,\n",
    "                             factor=0.5,\n",
    "                             # LR降為0.5\n",
    "                             min_lr=0.00001\n",
    "                             # 最小 LR 到0.00001就不再下降\n",
    "                             )]\n",
    "\n",
    "precision=tf.keras.metrics.Precision(name='precision')\n",
    "recall=tf.keras.metrics.Recall(name='recall')\n",
    "accuracy=tf.keras.metrics.CategoricalAccuracy(name='accuracy')\n",
    "\n",
    "\n",
    "test_model.compile(optimizer='Adam' , loss='categorical_crossentropy' , metrics=[precision,recall,accuracy])\n",
    "history=test_model.fit(train_datagen.flow(train_data,train_label,batch_size=128),\n",
    "                       epochs=30,\n",
    "                       validation_data=(val_data,val_label),\n",
    "                       callbacks=callbacks_list)\n"
   ]
  },
  {
   "cell_type": "markdown",
   "metadata": {},
   "source": [
    "#   畫 train 圖  、評估測試"
   ]
  },
  {
   "cell_type": "code",
   "execution_count": 8,
   "metadata": {},
   "outputs": [
    {
     "data": {
      "image/png": "[encoded data removed]",
      "text/plain": [
       "<Figure size 432x288 with 1 Axes>"
      ]
     },
     "metadata": {
      "needs_background": "light"
     },
     "output_type": "display_data"
    },
    {
     "data": {
      "image/png": "[encoded data removed]",
      "text/plain": [
       "<Figure size 432x288 with 1 Axes>"
      ]
     },
     "metadata": {
      "needs_background": "light"
     },
     "output_type": "display_data"
    },
    {
     "data": {
      "image/png": "[encoded data removed]",
      "text/plain": [
       "<Figure size 432x288 with 1 Axes>"
      ]
     },
     "metadata": {
      "needs_background": "light"
     },
     "output_type": "display_data"
    },
    {
     "data": {
      "image/png": "[encoded data removed]",
      "text/plain": [
       "<Figure size 432x288 with 1 Axes>"
      ]
     },
     "metadata": {
      "needs_background": "light"
     },
     "output_type": "display_data"
    }
   ],
   "source": [
    "# HO\n",
    "import matplotlib.pyplot as plot  \n",
    "import tensorflow as tf\n",
    "from tensorflow import keras\n",
    "from tensorflow.keras import layers\n",
    "import numpy as np\n",
    "import datetime as dt\n",
    "import os\n",
    "def train_history_graphic( history       # 資料集合\n",
    "              , history_key1  # 資料集合裡面的來源 1 (有 loss, acc, val_loss, val_acc 四種)\n",
    "              , history_key2  # 資料集合裡面的來源 2 (有 loss, acc, val_loss, val_acc 四種)\n",
    "              , y_label       # Y 軸標籤文字\n",
    "                         ) :\n",
    "    # 資料來源 1\n",
    "    plot.plot( history.history[history_key1] )\n",
    "    # 資料來源 2\n",
    "    plot.plot( history.history[history_key2] )\n",
    "    # 標題\n",
    "    plot.title( 'train history' )\n",
    "\n",
    "    # X 軸標籤文字\n",
    "    plot.xlabel( 'epochs' )\n",
    "\n",
    "    # Y 軸標籤文字\n",
    "    plot.ylabel( y_label )\n",
    "\n",
    "    # 設定圖例\n",
    "    # (參數 1 為圖例說明, 有幾個資料來源, 就對應幾個圖例說明)\n",
    "    # (參數 2 為圖例位置, upper 為上面, lower 為下面, left 為左邊, right 為右邊)\n",
    "    plot.legend( ['train', 'validate']\n",
    "               , loc = 'upper left'\n",
    "               )\n",
    "\n",
    "    # 顯示畫布\n",
    "    plot.show()\n",
    "\n",
    "train_history_graphic( history, 'loss', 'val_loss', 'loss' )\n",
    "train_history_graphic( history, 'accuracy', 'val_accuracy', 'accuracy' )\n",
    "train_history_graphic( history, 'precision', 'val_precision', 'precision' )\n",
    "train_history_graphic( history, 'recall', 'val_recall', 'recall' )\n",
    "\n",
    "\n",
    "\n",
    "\n",
    "# 顯示 Model 評估測試資料的\n",
    "# preds=test_model.evaluate(test_data,test_label)\n",
    "\n",
    "# print('loss ： %.5f' % preds[0])\n",
    "# print('precision：%.5f' % preds[1])\n",
    "# print('recall：%.5f' % preds[2])\n",
    "# print('accuracy： %.5f' % preds[3])\n",
    "# F1 = 2 * (preds[3] * preds[2]) / (preds[3] + preds[2])\n",
    "# print('f1score：%.5f' % F1)"
   ]
  },
  {
   "cell_type": "markdown",
   "metadata": {},
   "source": [
    "# load_model 預測"
   ]
  },
  {
   "cell_type": "code",
   "execution_count": 10,
   "metadata": {},
   "outputs": [],
   "source": [
    "# 2021-04-23 load_model\n",
    "\n",
    "test_model = keras.models.load_model('C:/Users/lab543/Desktop/DATA/Mango_VGG16_01')"
   ]
  },
  {
   "cell_type": "code",
   "execution_count": null,
   "metadata": {},
   "outputs": [],
   "source": [
    "\n",
    "TestdirPath = r\"D:\\_YUN\\24_ML\\Work02\\Mango\\DATA\\Test_Image\"\n",
    "Testmango = ReFileName(TestdirPath)\n",
    "\n",
    "#標籤路徑\n",
    "test_label = pd.read_csv(r'D:\\_YUN\\24_ML\\Work02\\Mango\\DATA\\test.csv',header = 0)\n",
    "\n",
    "#One-hot\n",
    "test_label = test_label['label'].map({\"A\":0, \"B\":1,\"C\":2})\n",
    "test_label = to_categorical(test_label)\n",
    "\n",
    "test_data=np.array(Testmango).astype('float32')/255"
   ]
  },
  {
   "cell_type": "code",
   "execution_count": null,
   "metadata": {},
   "outputs": [],
   "source": [
    "print( 'test_data =', test_data.shape )\n",
    "print( 'test_label =', test_label.shape )"
   ]
  },
  {
   "cell_type": "code",
   "execution_count": null,
   "metadata": {},
   "outputs": [],
   "source": [
    "BATCH_SIZE = 128\n",
    "tensor_test_data=tf.constant(test_data)\n",
    "tensor_test_label=tf.constant(test_label)\n",
    "# test_dataset = tf.data.Dataset.from_tensors((tensor_test_data, tensor_test_label))\n",
    "test_dataset = tf.data.Dataset.from_tensor_slices((tensor_test_data, tensor_test_label))\n",
    "test_dataset = test_dataset.batch(BATCH_SIZE)"
   ]
  },
  {
   "cell_type": "code",
   "execution_count": null,
   "metadata": {},
   "outputs": [],
   "source": [
    "# 顯示 Model 評估測試資料的\n",
    "preds=test_model.evaluate(test_dataset)\n",
    "\n",
    "print('loss ： %.5f' % preds[0])\n",
    "print('precision：%.5f' % preds[1])\n",
    "print('recall：%.5f' % preds[2])\n",
    "print('accuracy： %.5f' % preds[3])\n",
    "F1 = 2 * (preds[3] * preds[2]) / (preds[3] + preds[2])\n",
    "print('f1score：%.5f' % F1)"
   ]
  }
 ],
 "metadata": {
  "colab": {
   "name": "0318Churn",
   "provenance": [],
   "toc_visible": true
  },
  "kernelspec": {
   "display_name": "Python 3",
   "language": "python",
   "name": "python3"
  },
  "language_info": {
   "codemirror_mode": {
    "name": "ipython",
    "version": 3
   },
   "file_extension": ".py",
   "mimetype": "text/x-python",
   "name": "python",
   "nbconvert_exporter": "python",
   "pygments_lexer": "ipython3",
   "version": "3.8.8"
  }
 },
 "nbformat": 4,
 "nbformat_minor": 1
}
